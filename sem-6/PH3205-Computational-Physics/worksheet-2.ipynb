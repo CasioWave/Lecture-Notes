{
 "cells": [
  {
   "cell_type": "markdown",
   "id": "f3a3ae51",
   "metadata": {},
   "source": [
    "### Implementing the algorithms\n",
    "These cells are, thus, required for the execution of all other cells in the notebook"
   ]
  },
  {
   "cell_type": "markdown",
   "id": "ae9e7956",
   "metadata": {},
   "source": [
    "### Bisection"
   ]
  },
  {
   "cell_type": "code",
   "execution_count": 76,
   "id": "09f21725",
   "metadata": {},
   "outputs": [],
   "source": [
    "def bisection(f,a,b,maxiter,tol):\n",
    "    '''\n",
    "    f: Python function, taking one arg (float) and outputting float/int\n",
    "    a: float\n",
    "    b: float\n",
    "    maxiter: int\n",
    "    tol: float\n",
    "    Takes a function f, and tries to find a root of the function in\n",
    "    the interval [a,b] - subject to the condition that f(a)*f(b) < 0\n",
    "    '''\n",
    "    #Pre-evaluating to save some function calls - I estimate 2 calls saved\n",
    "    fa = f(a)\n",
    "    fb = f(b)\n",
    "    if abs(fa) <= tol:\n",
    "        return a\n",
    "    elif abs(fb) <= tol:\n",
    "        return b\n",
    "    elif fa*fb > 0.0: #The function calls are saved here\n",
    "        return \"Error: Interval has no root, repeated root, or even number of roots!\"\n",
    "    else:\n",
    "        c = (a+b)/2 #Computing the midpoint\n",
    "        fc = f(c)\n",
    "        i = 0 #Holds the number of iterations done\n",
    "        while abs(fc) > tol:\n",
    "            if i > maxiter:\n",
    "                print(\"Maximum iterations reached! Printing estimated root\")\n",
    "                return c\n",
    "            if fc*f(a) < 0:\n",
    "                #Root is in interval [a,c]\n",
    "                a = a\n",
    "                b = c\n",
    "            else:\n",
    "                #Root is in interval [c,b]\n",
    "                a = c\n",
    "                b = b\n",
    "            c = (a+b)/2\n",
    "            fc = f(c)\n",
    "            i += 1\n",
    "    return c"
   ]
  },
  {
   "cell_type": "markdown",
   "id": "836fcd05",
   "metadata": {},
   "source": [
    "### Secant"
   ]
  },
  {
   "cell_type": "code",
   "execution_count": 77,
   "id": "e9fee979",
   "metadata": {},
   "outputs": [],
   "source": [
    "def secant(f, a, b, maxiter, tol):\n",
    "    '''\n",
    "    f: Python function. taking one arg (float) and outputting float/int\n",
    "    a: float\n",
    "    b: float\n",
    "    maxiter: int\n",
    "    tol: float\n",
    "    Takes a function f, and two guess roots a and b.\n",
    "    Tries to find the root of the function by approximating f'(x) using\n",
    "    finite differences, and finding the x intercept of the secant line through\n",
    "    (a,f(a)) and (b,f(b))\n",
    "    '''\n",
    "    #Pre-evaluation saves us atleast 4 function calls here\n",
    "    fa = f(a)\n",
    "    fb = f(b)\n",
    "    if abs(fa) <= tol:\n",
    "        return a\n",
    "    elif abs(fb) <= tol:\n",
    "        return b\n",
    "    elif abs(fa-fb) < tol: #Two function calls saved here\n",
    "        return \"Error: function is too flat, the method will fail\"\n",
    "    else:\n",
    "        c = b - fb*((b-a)/(fb-fa)) #Two more function calls saved here\n",
    "        fc = f(c)\n",
    "        i = 0\n",
    "        while abs(fc) > tol:\n",
    "            if i > maxiter:\n",
    "                print(\"Maximum iterations reached! Printing estimated root\")\n",
    "                return c\n",
    "            a = b\n",
    "            b = c\n",
    "            #Again, saving function calls - one is saved in the flatness check\n",
    "            fb = f(b) #Not evaluating f(a) and saving because that takes space and does NOT save calls\n",
    "            c = b - fb*((b-a)/(fb-f(a))) #Computing next iterative\n",
    "            fc = f(c)\n",
    "            if abs(fc-fb) < tol:\n",
    "                print(\"Error: function is too flat at this iteration: Printing last guess!\")\n",
    "                return c\n",
    "            i += 1\n",
    "    return c"
   ]
  },
  {
   "cell_type": "markdown",
   "id": "7ddfa9a9",
   "metadata": {},
   "source": [
    "### Newton-Raphson\n",
    "Note: I code for a 2 point numerical differentiator mode, as well as a normal mode for use when the analytical form of the derivative is known. This covers all use cases here."
   ]
  },
  {
   "cell_type": "code",
   "execution_count": 82,
   "id": "234345aa",
   "metadata": {},
   "outputs": [],
   "source": [
    "def numDiff(x,f=f,tol=0.0000001):\n",
    "    '''\n",
    "    f: Python function, takes one arg (float) and returns a float\n",
    "        Default value set to f, because that is just convenient for\n",
    "        this notebook where all root finding targets have the name f\n",
    "    x: float\n",
    "        Point at which f' is evaluated\n",
    "    tol: Step size/tolerance for 2 point numerical derivative calculation\n",
    "    USES FORWARD DIFF\n",
    "    '''\n",
    "    return (f(x+tol)-f(x))/(tol)\n",
    "\n",
    "def newtonRaphson(f,a,maxiter,tol,df=numDiff):\n",
    "    '''\n",
    "    f: Python function, takes one arg (float) and returns a float\n",
    "    df: Python function, takes one arg (float) and returns a float\n",
    "    a: float\n",
    "        Initial guess\n",
    "    maxiter: int\n",
    "    tol: float\n",
    "    '''\n",
    "    #Pre-evaluation here saves 1 function call\n",
    "    fa = f(a)\n",
    "    if abs(fa) < tol:\n",
    "        return a\n",
    "    elif abs(df(a)) < tol:\n",
    "        return \"Error: The function is flat at the gues - convergence will fail!\"\n",
    "    else:\n",
    "        i = 0\n",
    "        c = a - fa/df(a) #Function call saved here\n",
    "        while abs(f(c)) > tol:\n",
    "            if i > maxiter:\n",
    "                print(\"Maximum iteration reached! Printing estimated root\")\n",
    "                return c\n",
    "            a = c\n",
    "            c = a - f(a)/df(a) #Computing next iterative\n",
    "            if abs(df(c)) < tol:\n",
    "                print(\"Error: Function is too flat at this iteration - printing last iteration guess!\")\n",
    "                return c\n",
    "            i += 1\n",
    "    return c"
   ]
  },
  {
   "cell_type": "markdown",
   "id": "eb7846df",
   "metadata": {},
   "source": [
    "## Q1"
   ]
  },
  {
   "cell_type": "code",
   "execution_count": 83,
   "id": "29087563",
   "metadata": {},
   "outputs": [
    {
     "name": "stdout",
     "output_type": "stream",
     "text": [
      "The bisection result is -> 1.324194 \n",
      "The secant result is -> 1.324194\n",
      "The Newton-Raphson (Analytical) result is -> 1.324194\n",
      "The Newton-Raphson (Numerical) result is -> 1.324194\n"
     ]
    }
   ],
   "source": [
    "from math import cos\n",
    "def f(x):\n",
    "    return 3*x - tan(x)\n",
    "def df(x):\n",
    "    return 3 - pow(cos(x),-2)\n",
    "\n",
    "print(\"The bisection result is -> %.6f \"%bisection(f,1,1.4,25,0.000001))\n",
    "print(\"The secant result is -> %.6f\"%secant(f,1,1.4,25,0.000001))\n",
    "print(\"The Newton-Raphson (Analytical) result is -> %.6f\"%newtonRaphson(f,1.2,30,0.000001,df=df))\n",
    "print(\"The Newton-Raphson (Numerical) result is -> %.6f\"%newtonRaphson(f,1.2,30,0.00001,df=numDiff))"
   ]
  },
  {
   "cell_type": "markdown",
   "id": "85d55705",
   "metadata": {},
   "source": [
    "## Q2\n",
    "To find the point of equilibrium, we just solve $ \\frac{d V}{d x} = 0 $\n",
    "using the rootfinding algorithms"
   ]
  },
  {
   "cell_type": "code",
   "execution_count": 84,
   "id": "1d006fea",
   "metadata": {},
   "outputs": [
    {
     "name": "stdout",
     "output_type": "stream",
     "text": [
      "The point of equillibrium is (using Numerical mode)-> -0.605830\n",
      "The point of equillibrium is (using Analytical mode)-> -0.605830\n"
     ]
    }
   ],
   "source": [
    "#Defining the functions for rootfinding\n",
    "def f(x):\n",
    "    return -(4*pow(x,3) + 3*pow(x,2) + 2*x + 1)\n",
    "\n",
    "def df(x):\n",
    "    return -(12*pow(x,2) + 6*x + 2)\n",
    "\n",
    "print(\"The point of equillibrium is (using Numerical mode)-> %.6f\"%newtonRaphson(f,-0.5,30,0.00001,df=numDiff))\n",
    "print(\"The point of equillibrium is (using Analytical mode)-> %.6f\"%newtonRaphson(f,-0.5,30,0.000001,df=df))"
   ]
  },
  {
   "cell_type": "markdown",
   "id": "88185169",
   "metadata": {},
   "source": [
    "## Q3\n",
    "Note, the particle will turn whenever we satisfy the condition,\n",
    "$$\n",
    "E = V(x)\n",
    "$$\n",
    "Where,\n",
    "\n",
    "$E$ = Energy of the particle\n",
    "\n",
    "$V(x)$ = Given potential\n",
    "\n",
    "As at these points, the total energy of the particle will turn into potential energy - preventing the translation of the particle any further."
   ]
  },
  {
   "cell_type": "code",
   "execution_count": 85,
   "id": "36ee629c",
   "metadata": {},
   "outputs": [
    {
     "data": {
      "image/png": "[encoded data removed]",
      "text/plain": [
       "<Figure size 432x288 with 1 Axes>"
      ]
     },
     "metadata": {
      "needs_background": "light"
     },
     "output_type": "display_data"
    }
   ],
   "source": [
    "#Defining the functions for rootfinding\n",
    "def f(x):\n",
    "    return pow(x,4) + pow((2*x)/3,3) - pow(x,2) + 0.125\n",
    "\n",
    "def df(x):\n",
    "    return 4*pow(x,3) + pow((2*x)/3,2)*2 - 2*x\n",
    "\n",
    "import matplotlib.pyplot as plt\n",
    "\n",
    "x = [i/100 for i in range(-130,100)]\n",
    "y = [f(i) for i in x]\n",
    "\n",
    "plt.plot(x,y,label=\"V(x) - E\")\n",
    "plt.axhline(color='black')\n",
    "plt.title(\"Energy curve\")\n",
    "plt.xlabel(\"x\")\n",
    "plt.ylabel(\"V(x) - E\")\n",
    "plt.legend()\n",
    "plt.show()"
   ]
  },
  {
   "cell_type": "markdown",
   "id": "debf1445",
   "metadata": {},
   "source": [
    "### Part (a)"
   ]
  },
  {
   "cell_type": "code",
   "execution_count": 86,
   "id": "dd46266f",
   "metadata": {},
   "outputs": [
    {
     "name": "stdout",
     "output_type": "stream",
     "text": [
      "Using bisection!\n",
      "Turning points in right well ->\n",
      "1 -> 0.74417\n",
      "2 -> 0.42433\n",
      "Turning points in the left well ->\n",
      "1 -> -0.35749\n",
      "2 -> -1.10732\n"
     ]
    }
   ],
   "source": [
    "print(\"Using bisection!\")\n",
    "print(\"Turning points in right well ->\")\n",
    "print(\"1 -> %.5f\"%bisection(f,0.5,1,20,0.000001))\n",
    "print(\"2 -> %.5f\"%bisection(f,0.1,0.5,20,0.000001))\n",
    "print(\"Turning points in the left well ->\")\n",
    "print(\"1 -> %.5f\"%bisection(f,-0.5,-0.1,20,0.000001))\n",
    "print(\"2 -> %.5f\"%bisection(f,-1.5,-1,20,0.000001))"
   ]
  },
  {
   "cell_type": "code",
   "execution_count": 87,
   "id": "0627939b",
   "metadata": {},
   "outputs": [
    {
     "name": "stdout",
     "output_type": "stream",
     "text": [
      "Using secant!\n",
      "Turning points in right well ->\n",
      "1 -> 0.74417\n",
      "2 -> 0.42434\n",
      "Turning points in the left well ->\n",
      "1 -> -0.35748\n",
      "2 -> -1.10732\n"
     ]
    }
   ],
   "source": [
    "print(\"Using secant!\")\n",
    "print(\"Turning points in right well ->\")\n",
    "print(\"1 -> %.5f\"%secant(f,0.8,0.9,20,0.000001))\n",
    "print(\"2 -> %.5f\"%secant(f,0.2,0.3,20,0.000001))\n",
    "print(\"Turning points in the left well ->\")\n",
    "print(\"1 -> %.5f\"%secant(f,-0.6,-0.5,20,0.000001))\n",
    "print(\"2 -> %.5f\"%secant(f,-1.5,-1,20,0.000001))"
   ]
  },
  {
   "cell_type": "markdown",
   "id": "06523eea",
   "metadata": {},
   "source": [
    "### Additional Error\n",
    "Note that, the tolerance set in the algorithms in this question have a value that is one order of magnitude smaller than the maxmimum error asked for the question in the value of x. This is ensured because internally the algorithms stop based on error in Energy, not x. The error in f(x) is a looser bound than x relative error, so this ensures the required error bounds required."
   ]
  },
  {
   "cell_type": "markdown",
   "id": "7ef07ebb",
   "metadata": {},
   "source": [
    "- Diptanuj Sarkar (22MS038)"
   ]
  }
 ],
 "metadata": {
  "kernelspec": {
   "display_name": "Python 3 (ipykernel)",
   "language": "python",
   "name": "python3"
  },
  "language_info": {
   "codemirror_mode": {
    "name": "ipython",
    "version": 3
   },
   "file_extension": ".py",
   "mimetype": "text/x-python",
   "name": "python",
   "nbconvert_exporter": "python",
   "pygments_lexer": "ipython3",
   "version": "3.10.12"
  }
 },
 "nbformat": 4,
 "nbformat_minor": 5
}
