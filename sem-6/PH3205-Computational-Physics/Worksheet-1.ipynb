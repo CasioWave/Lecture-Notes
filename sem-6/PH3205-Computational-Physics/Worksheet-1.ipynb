{
 "cells": [
  {
   "cell_type": "markdown",
   "id": "4ba27430",
   "metadata": {},
   "source": [
    "## Q1"
   ]
  },
  {
   "cell_type": "code",
   "execution_count": 10,
   "id": "8848cbb6",
   "metadata": {},
   "outputs": [],
   "source": [
    "from math import sqrt\n",
    "\n",
    "def is_prime(n):\n",
    "    '''\n",
    "    n: Int\n",
    "    Returns True if n is prime\n",
    "    '''\n",
    "    if n == 1: #Trivial case\n",
    "        return False\n",
    "    if n == 2: #2 is a prime\n",
    "        return True\n",
    "    elif n%2 == 0: #if n is even, and not 2, it is composite\n",
    "        return False\n",
    "    else: #Implements the algorithm asked for\n",
    "        for i in range(3,round(sqrt(n))+1,2):\n",
    "            if n%i == 0:\n",
    "                return False\n",
    "    return True"
   ]
  },
  {
   "cell_type": "markdown",
   "id": "184e1414",
   "metadata": {},
   "source": [
    "### Testing Q1 is_prime function"
   ]
  },
  {
   "cell_type": "code",
   "execution_count": 11,
   "id": "d527e323",
   "metadata": {},
   "outputs": [
    {
     "name": "stdout",
     "output_type": "stream",
     "text": [
      "False\n",
      "False\n",
      "True\n",
      "True\n"
     ]
    }
   ],
   "source": [
    "print(is_prime(1))\n",
    "print(is_prime(10))\n",
    "print(is_prime(5))\n",
    "print(is_prime(2))"
   ]
  },
  {
   "cell_type": "markdown",
   "id": "3950f998",
   "metadata": {},
   "source": [
    "## Q2"
   ]
  },
  {
   "cell_type": "code",
   "execution_count": 12,
   "id": "dd561309",
   "metadata": {},
   "outputs": [],
   "source": [
    "def gen_prime(a,b):\n",
    "    '''\n",
    "    a: int\n",
    "    b: int\n",
    "    Function returns a list of all the prime functions between a and b\n",
    "    Depends on is_prime defined in cell 1\n",
    "    NOTE: By between, we mean that the ends of the interval are excluded\n",
    "    '''\n",
    "    ret = []\n",
    "    for i in range(a,b):\n",
    "        if is_prime(i): #If i is prime, it gets added to returning list\n",
    "            ret.append(i)\n",
    "        else:\n",
    "            pass\n",
    "    return ret"
   ]
  },
  {
   "cell_type": "markdown",
   "id": "d4d43e7b",
   "metadata": {},
   "source": [
    "### Testing Q2 gen_prime function"
   ]
  },
  {
   "cell_type": "code",
   "execution_count": 13,
   "id": "81c4c3c3",
   "metadata": {},
   "outputs": [
    {
     "name": "stdout",
     "output_type": "stream",
     "text": [
      "[2, 3, 5, 7]\n",
      "[2, 3, 5, 7]\n",
      "[]\n",
      "[11, 13, 17, 19]\n"
     ]
    }
   ],
   "source": [
    "print(gen_prime(0,10))\n",
    "print(gen_prime(1,10))\n",
    "print(gen_prime(1,2))\n",
    "print(gen_prime(10,20))"
   ]
  },
  {
   "cell_type": "markdown",
   "id": "bf16bba6",
   "metadata": {},
   "source": [
    "## Q3"
   ]
  },
  {
   "cell_type": "code",
   "execution_count": 14,
   "id": "7333b546",
   "metadata": {},
   "outputs": [],
   "source": [
    "def fact(n):\n",
    "    '''\n",
    "    n: int\n",
    "    Returns n!\n",
    "    Used in f\n",
    "    '''\n",
    "    #Simple, non-recursive factorial function\n",
    "    ret = 1\n",
    "    for i in range(2,n+1):\n",
    "        ret *= i\n",
    "    return ret\n",
    "\n",
    "def f(x, n):\n",
    "    '''\n",
    "    x: float\n",
    "    n: int\n",
    "    Calculates exp(x) using the Taylor expansion upto nth term\n",
    "    '''\n",
    "    ret = 0\n",
    "    for i in range(n+1):\n",
    "        ret += pow(x,i)/fact(i) #Evaluates ith term of formula\n",
    "    return ret"
   ]
  },
  {
   "cell_type": "markdown",
   "id": "6ce366eb",
   "metadata": {},
   "source": [
    "### Testing Q3 f function"
   ]
  },
  {
   "cell_type": "code",
   "execution_count": 15,
   "id": "eba4c730",
   "metadata": {},
   "outputs": [
    {
     "name": "stdout",
     "output_type": "stream",
     "text": [
      "2.7182818284590455\n",
      "1.0\n",
      "1.0\n"
     ]
    }
   ],
   "source": [
    "print(f(1,100))\n",
    "print(f(1,0))\n",
    "print(f(0,0))"
   ]
  },
  {
   "cell_type": "markdown",
   "id": "d313b2f4",
   "metadata": {},
   "source": [
    "## Q4"
   ]
  },
  {
   "cell_type": "code",
   "execution_count": 19,
   "id": "2a03b772",
   "metadata": {},
   "outputs": [
    {
     "name": "stdout",
     "output_type": "stream",
     "text": [
      "x = 0.1 | 1.105171 | 1.105171 | 1.105171 | 1.105171 | 1.105171 | \n",
      "x = 0.2 | 1.221400 | 1.221403 | 1.221403 | 1.221403 | 1.221403 | \n",
      "x = 0.3 | 1.349838 | 1.349859 | 1.349859 | 1.349859 | 1.349859 | \n",
      "x = 0.4 | 1.491733 | 1.491825 | 1.491825 | 1.491825 | 1.491825 | \n",
      "x = 0.5 | 1.648438 | 1.648721 | 1.648721 | 1.648721 | 1.648721 | \n",
      "x = 0.6 | 1.821400 | 1.822119 | 1.822119 | 1.822119 | 1.822119 | \n",
      "x = 0.7 | 2.012171 | 2.013753 | 2.013753 | 2.013753 | 2.013753 | \n",
      "x = 0.8 | 2.222400 | 2.225541 | 2.225541 | 2.225541 | 2.225541 | \n",
      "x = 0.9 | 2.453837 | 2.459602 | 2.459603 | 2.459603 | 2.459603 | \n",
      "x = 1.0 | 2.708333 | 2.718279 | 2.718282 | 2.718282 | 2.718282 | \n"
     ]
    }
   ],
   "source": [
    "x = [i/10 for i in range(1,11)]\n",
    "n = [i for i in range(4,21,4)]\n",
    "for i in x:\n",
    "    print(f\"x = {i} | \", end=\"\")\n",
    "    for j in n:\n",
    "        print(\"%.6f | \" % f(i,j), end=\"\")\n",
    "    print(\"\")"
   ]
  },
  {
   "cell_type": "markdown",
   "id": "19bec6a5",
   "metadata": {},
   "source": [
    "## Q5"
   ]
  },
  {
   "cell_type": "code",
   "execution_count": 30,
   "id": "182aa3c9",
   "metadata": {},
   "outputs": [],
   "source": [
    "def rec_contd_func(n,st):\n",
    "    '''\n",
    "    n: int\n",
    "    stop: int\n",
    "    Recursively computes the continued fraction given to find pi\n",
    "    n is the current \"slice\" of the fraction being computed\n",
    "    stop is the last level of computation of the continued fraction (base case)\n",
    "    '''\n",
    "    if n > st: #Base Case\n",
    "        return 0\n",
    "    else:\n",
    "        return (pow(2*n - 1, 2))/(2 + rec_contd_func(n+1,st))\n",
    "\n",
    "def cont_frac_pi(n):\n",
    "    '''\n",
    "    n: int\n",
    "    Uses the continued fraction to compute pi, upto nth term\n",
    "    Relies on rec_contd_func\n",
    "    '''\n",
    "    return 4/(1+rec_contd_func(1,n))\n",
    "\n",
    "def leibniz(n):\n",
    "    '''\n",
    "    n: int\n",
    "    Evaluates the Leibniz formula upto the nth term\n",
    "    '''\n",
    "    ret = 0\n",
    "    for i in range(1,n+1):\n",
    "        ret += pow(-1,i+1)*(1/(2*i - 1))\n",
    "    return ret\n",
    "\n",
    "def leibniz_pi(n):\n",
    "    '''\n",
    "    n: int\n",
    "    Evaluates pi using the Leibniz formula\n",
    "    Relies on leibniz\n",
    "    '''\n",
    "    return 4*(leibniz(n))"
   ]
  },
  {
   "cell_type": "markdown",
   "id": "dfa1887d",
   "metadata": {},
   "source": [
    "## Testing the values of pi\n",
    "Using the functions that are defined above"
   ]
  },
  {
   "cell_type": "code",
   "execution_count": 32,
   "id": "6ed1777b",
   "metadata": {},
   "outputs": [
    {
     "name": "stdout",
     "output_type": "stream",
     "text": [
      "3.15149340107099\n",
      "3.1315929035585537\n"
     ]
    }
   ],
   "source": [
    "print(cont_frac_pi(100))\n",
    "print(leibniz_pi(100))"
   ]
  },
  {
   "cell_type": "markdown",
   "id": "9d12797a",
   "metadata": {},
   "source": [
    "### Second part of the Question 5\n",
    "1. Printing formatted table\n",
    "2. Plotting both as $\\pi(n)$ vs. $n$"
   ]
  },
  {
   "cell_type": "code",
   "execution_count": 34,
   "id": "4da927ba",
   "metadata": {},
   "outputs": [
    {
     "name": "stdout",
     "output_type": "stream",
     "text": [
      "n = 1 | CF = 2.66666667 | L = 4.00000000\n",
      "n = 2 | CF = 3.46666667 | L = 2.66666667\n",
      "n = 3 | CF = 2.89523810 | L = 3.46666667\n",
      "n = 4 | CF = 3.33968254 | L = 2.89523810\n",
      "n = 5 | CF = 2.97604618 | L = 3.33968254\n",
      "n = 6 | CF = 3.28373848 | L = 2.97604618\n",
      "n = 7 | CF = 3.01707182 | L = 3.28373848\n",
      "n = 8 | CF = 3.25236593 | L = 3.01707182\n",
      "n = 9 | CF = 3.04183962 | L = 3.25236593\n",
      "n = 10 | CF = 3.23231581 | L = 3.04183962\n"
     ]
    },
    {
     "data": {
      "image/png": "[encoded data removed]",
      "text/plain": [
       "<Figure size 432x288 with 1 Axes>"
      ]
     },
     "metadata": {
      "needs_background": "light"
     },
     "output_type": "display_data"
    }
   ],
   "source": [
    "n = [i for i in range(1,11)]\n",
    "\n",
    "for i in n:\n",
    "    print(f\"n = {i} | \", end=\"\")\n",
    "    print(\"CF = %.8f | \" % cont_frac_pi(i), end=\"\")\n",
    "    print(\"L = %.8f\" % leibniz_pi(i))\n",
    "    \n",
    "import matplotlib.pyplot as plt\n",
    "\n",
    "l = [leibniz_pi(i) for i in n]\n",
    "c = [cont_frac_pi(i) for i in n]\n",
    "\n",
    "plt.plot(n, l, label=\"Leibniz formula\")\n",
    "plt.plot(n, c, label=\"Continued fraction\")\n",
    "plt.xlabel(\"n\")\n",
    "plt.ylabel(\"pi(n)\")\n",
    "plt.title(\"Comparing convergences\")\n",
    "plt.show()"
   ]
  },
  {
   "cell_type": "markdown",
   "id": "5deca0d7",
   "metadata": {},
   "source": [
    "Diptanuj Sarkar (22MS038)"
   ]
  },
  {
   "cell_type": "code",
   "execution_count": null,
   "id": "de594c56",
   "metadata": {},
   "outputs": [],
   "source": []
  }
 ],
 "metadata": {
  "kernelspec": {
   "display_name": "Python 3 (ipykernel)",
   "language": "python",
   "name": "python3"
  },
  "language_info": {
   "codemirror_mode": {
    "name": "ipython",
    "version": 3
   },
   "file_extension": ".py",
   "mimetype": "text/x-python",
   "name": "python",
   "nbconvert_exporter": "python",
   "pygments_lexer": "ipython3",
   "version": "3.10.12"
  }
 },
 "nbformat": 4,
 "nbformat_minor": 5
}
