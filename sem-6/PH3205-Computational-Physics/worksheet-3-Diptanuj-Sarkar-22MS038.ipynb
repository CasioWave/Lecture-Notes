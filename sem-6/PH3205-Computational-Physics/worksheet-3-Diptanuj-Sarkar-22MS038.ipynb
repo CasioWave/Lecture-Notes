{
 "cells": [
  {
   "cell_type": "markdown",
   "id": "5a0fcb50",
   "metadata": {},
   "source": [
    "# Numerical Integration and Differentiation"
   ]
  },
  {
   "cell_type": "markdown",
   "id": "1a0aac03",
   "metadata": {},
   "source": [
    "## Q1\n",
    "First, we implement all the required algorithms for numerical differentiation."
   ]
  },
  {
   "cell_type": "code",
   "execution_count": 48,
   "id": "81789efd",
   "metadata": {},
   "outputs": [],
   "source": [
    "def forward_diff(f,x,h=0.00001):\n",
    "    '''\n",
    "    f: Python function, takes one argument (float) and returns float\n",
    "    x: float\n",
    "    h: float\n",
    "    Computes the derivative of the function f at x using forward difference\n",
    "    uses h as the step value, set to a default of 0.00001\n",
    "    '''\n",
    "    return (f(x+h) - f(x))/h\n",
    "\n",
    "def backward_diff(f,x,h=0.00001):\n",
    "    '''\n",
    "    f: Python function, takes one argument (float) and returns float\n",
    "    x: float\n",
    "    h: float\n",
    "    Computes the derivative of the function f at x using backward difference\n",
    "    uses h as the step value, set to a default of 0.00001\n",
    "    '''\n",
    "    return (f(x) - f(x-h))/h\n",
    "\n",
    "def central_diff(f,x,h=0.00001):\n",
    "    '''\n",
    "    f: Python function, takes one float argument and returns float\n",
    "    x: float\n",
    "    h: float\n",
    "    Computes the derivative of the function f at x\n",
    "    Uses central difference\n",
    "    Uses h as the step length, it is set to the defauly value of 0.00001\n",
    "    '''\n",
    "    return (f(x+h) - f(x-h))/(2*h)\n",
    "\n",
    "def fivePoint_diff(f,x,h=0.00001):\n",
    "    '''\n",
    "    f: Python function, takes one float argument and returns float\n",
    "    x: float\n",
    "    h: float\n",
    "    Computes the derivative of the function f at x\n",
    "    Uses the 5-point approximation\n",
    "    h is the step size, set to a default value of 0.00001\n",
    "    '''\n",
    "    h2 = 2*h\n",
    "    return (f(x-h2) - 8*f(x-h) + 8*f(x+h) - f(x+h2))/(12*h)"
   ]
  },
  {
   "cell_type": "markdown",
   "id": "69fad7f7",
   "metadata": {},
   "source": [
    "### (a)"
   ]
  },
  {
   "cell_type": "code",
   "execution_count": 49,
   "id": "961510db",
   "metadata": {},
   "outputs": [
    {
     "name": "stdout",
     "output_type": "stream",
     "text": [
      "  |  0.5 | 0.2 | 0.1 | 0.05 | 0.02 | 0.01 | 0.005 | 0.002 | 0.001 | 0.0005 | 0.0002 | 0.0001 |\n",
      "FD| 0.0634| 0.2122| 0.2610| 0.2851| 0.2995| 0.3043| 0.3066| 0.3081| 0.3085| 0.3088| 0.3089| 0.3090|\n",
      "BD| 0.5292| 0.4018| 0.3560| 0.3327| 0.3185| 0.3138| 0.3114| 0.3100| 0.3095| 0.3093| 0.3091| 0.3091|\n",
      "CD| 0.2963| 0.3070| 0.3085| 0.3089| 0.3090| 0.3090| 0.3090| 0.3090| 0.3090| 0.3090| 0.3090| 0.3090|\n",
      "5D| 0.3084| 0.3090| 0.3090| 0.3090| 0.3090| 0.3090| 0.3090| 0.3090| 0.3090| 0.3090| 0.3090| 0.3090|\n"
     ]
    }
   ],
   "source": [
    "from math import sin, pi\n",
    "\n",
    "#Values of h that the computation needs to be carried over\n",
    "h = [0.5, 0.2, 0.1, 0.05, 0.02, 0.01, 0.005, 0.002, 0.001, 0.0005, 0.0002, 0.0001]\n",
    "\n",
    "#Target value of x for which the derivative is to be evaluated\n",
    "x = (2*pi)/5\n",
    "\n",
    "#Algorithms that will be used\n",
    "alg = [forward_diff, backward_diff, central_diff, fivePoint_diff]\n",
    "\n",
    "#Names of the algorithms, for display purposes\n",
    "algName = [\"FD\", \"BD\", \"CD\", \"5D\"]\n",
    "\n",
    "#main loop\n",
    "print(\"  | \",end='')\n",
    "for i in h:\n",
    "    print(f\" {i} |\",end='')\n",
    "\n",
    "print()\n",
    "\n",
    "estimates = dict() #Dictionary indexed by algName, holds f'(x) at all values of h\n",
    "\n",
    "for i in range(len(alg)):\n",
    "    print(algName[i]+\"|\",end='')\n",
    "    hs = []\n",
    "    for j in h:\n",
    "        val = alg[i](sin,x,j)\n",
    "        print(f\"{val: .4f}|\",end='')\n",
    "        hs.append(val)\n",
    "    print()\n",
    "    estimates[algName[i]] = list(hs) #Need to copy the 1D list, it gets reset"
   ]
  },
  {
   "cell_type": "markdown",
   "id": "a4566049",
   "metadata": {},
   "source": [
    "### (b)"
   ]
  },
  {
   "cell_type": "code",
   "execution_count": 50,
   "id": "9af46b00",
   "metadata": {},
   "outputs": [
    {
     "data": {
      "image/png": "[encoded data removed]",
      "text/plain": [
       "<Figure size 432x288 with 1 Axes>"
      ]
     },
     "metadata": {
      "needs_background": "light"
     },
     "output_type": "display_data"
    }
   ],
   "source": [
    "#Exact derivative of sin, as we know\n",
    "from math import cos\n",
    "\n",
    "exact = cos(x)\n",
    "\n",
    "errors = dict() #Holds the errors, indexed by algName\n",
    "\n",
    "#Calculating the absolute errors\n",
    "for i in range(len(alg)):\n",
    "    a = algName[i]\n",
    "    hE = []\n",
    "    for j in range(len(h)):\n",
    "        hE.append(abs(estimates[a][j] - exact))\n",
    "    errors[a] = list(hE)\n",
    "\n",
    "import matplotlib.pyplot as plt\n",
    "\n",
    "plt.title(\"Plot of Absolute Error vs. Step size (h)\")\n",
    "plt.xlabel(\"Step Size (h)\")\n",
    "plt.ylabel(\"Absolute Error\")\n",
    "\n",
    "for i in algName:\n",
    "    plt.plot(h,errors[i],label = i)\n",
    "\n",
    "plt.legend()\n",
    "plt.show()"
   ]
  },
  {
   "cell_type": "markdown",
   "id": "1afcf574",
   "metadata": {},
   "source": [
    "### (c)"
   ]
  },
  {
   "cell_type": "code",
   "execution_count": 51,
   "id": "2d88c2f8",
   "metadata": {},
   "outputs": [
    {
     "data": {
      "image/png": "[encoded data removed]",
      "text/plain": [
       "<Figure size 432x288 with 1 Axes>"
      ]
     },
     "metadata": {
      "needs_background": "light"
     },
     "output_type": "display_data"
    },
    {
     "name": "stdout",
     "output_type": "stream",
     "text": [
      "SLOPES of Linear Fit for all methods -> \n",
      "FD: 1.002818380118227\n",
      "BD: 0.9945608990283744\n",
      "CD: 1.9992408011625247\n",
      "5D: 2.9570776996625683\n"
     ]
    }
   ],
   "source": [
    "from math import log\n",
    "\n",
    "logErrors = dict()\n",
    "\n",
    "for i in algName:\n",
    "    logErr = []\n",
    "    for j in range(len(h)):\n",
    "        logErr.append(log(errors[i][j]))\n",
    "    logErrors[i] = list(logErr)\n",
    "\n",
    "logH = [log(i) for i in h]\n",
    "\n",
    "#Now, we fit the log(Abs Err) vs log(h)\n",
    "from scipy.optimize import curve_fit\n",
    "\n",
    "#Normal, linear curve\n",
    "def linear(x, a, b):\n",
    "    return a*x + b\n",
    "\n",
    "params = dict()\n",
    "covs = dict()\n",
    "\n",
    "for i in algName:\n",
    "    params[i], covs[i] = curve_fit(linear, logH, logErrors[i])\n",
    "\n",
    "plt.title(\"Plot of log(Abs Error) vs. log(h)\")\n",
    "plt.xlabel(\"log(h)\")\n",
    "plt.ylabel(\"log(Abs Error)\")\n",
    "\n",
    "for i in algName:\n",
    "    plt.scatter(logH, logErrors[i], label=i)\n",
    "    fitY = [linear(j,params[i][0],params[i][1]) for j in logH]\n",
    "    plt.plot(logH, fitY, label=str(\"fit-\"+i))\n",
    "\n",
    "plt.legend()\n",
    "plt.show()\n",
    "\n",
    "print(\"SLOPES of Linear Fit for all methods -> \")\n",
    "for i in algName:\n",
    "    print(f\"{i}: \",end='')\n",
    "    print(params[i][0])"
   ]
  },
  {
   "cell_type": "markdown",
   "id": "05adbde9",
   "metadata": {},
   "source": [
    "### (c) - Errors analysed\n",
    "Note that we have a distinct accumulation of **floating point** errors near the smaller values of h for 5 Point Method, causing it to get \"worse\" as h decreases. This is wrong representation for two reasons - \n",
    "1. The fit is of course bad (will be demonstrated below) - clearly because the data has a downward trend for a part of the data, and an upward trend after\n",
    "2. The floating point error is strictly dependant on the machine which runs the code (and perhaps the kernel).\n",
    "\n",
    "To be more precise in this representation, we will **remove the lowest 3 points from the log(Abs Error) data**"
   ]
  },
  {
   "cell_type": "code",
   "execution_count": 52,
   "id": "18ed5a62",
   "metadata": {},
   "outputs": [
    {
     "name": "stdout",
     "output_type": "stream",
     "text": [
      "Errors in fitting (derived from covariance matrix) -> \n",
      "FD: a = 0.0007082761174464742, b = 0.004003566050037197\n",
      "BD: a = 0.0018694320595609118, b = 0.01056705790090754\n",
      "CD: a = 0.000333442031119659, b = 0.0018847976957410476\n",
      "5D: a = 0.3835248590775807, b = 2.1678933859838256\n",
      "Notice how the errors are remarkably larger for 5D\n"
     ]
    }
   ],
   "source": [
    "from numpy import diag, sqrt\n",
    "\n",
    "print(\"Errors in fitting (derived from covariance matrix) -> \")\n",
    "for i in algName:\n",
    "    print(f\"{i}: \",end='')\n",
    "    e = sqrt(diag(covs[i]))\n",
    "    print(f\"a = {e[0]}, b = {e[1]}\")\n",
    "\n",
    "print(\"Notice how the errors are remarkably larger for 5D\")"
   ]
  },
  {
   "cell_type": "code",
   "execution_count": 53,
   "id": "23c179ac",
   "metadata": {},
   "outputs": [
    {
     "name": "stdout",
     "output_type": "stream",
     "text": [
      "  |  0.5 | 0.2 | 0.1 | 0.05 | 0.02 | 0.01 | 0.005 | 0.002 |\n",
      "FD| 0.0634| 0.2122| 0.2610| 0.2851| 0.2995| 0.3043| 0.3066| 0.3081|\n",
      "BD| 0.5292| 0.4018| 0.3560| 0.3327| 0.3185| 0.3138| 0.3114| 0.3100|\n",
      "CD| 0.2963| 0.3070| 0.3085| 0.3089| 0.3090| 0.3090| 0.3090| 0.3090|\n",
      "5D| 0.3084| 0.3090| 0.3090| 0.3090| 0.3090| 0.3090| 0.3090| 0.3090|\n"
     ]
    },
    {
     "data": {
      "image/png": "[encoded data removed]",
      "text/plain": [
       "<Figure size 432x288 with 1 Axes>"
      ]
     },
     "metadata": {
      "needs_background": "light"
     },
     "output_type": "display_data"
    },
    {
     "name": "stdout",
     "output_type": "stream",
     "text": [
      "SLOPES of Linear Fit for all methods -> \n",
      "FD: 1.005279164175487\n",
      "BD: 0.9891917376368284\n",
      "CD: 1.9984543571566313\n",
      "5D: 4.0119582460273655\n",
      "Updated Errors in Fit -> \n",
      "FD: a = 0.0011494825766061834, b = 0.004462156278879801\n",
      "BD: a = 0.003551202987106397, b = 0.013785352524739366\n",
      "CD: a = 0.000690670816569079, b = 0.00268110292990226\n",
      "5D: a = 0.009585938647114196, b = 0.037211486169491444\n"
     ]
    }
   ],
   "source": [
    "#Values of h that the computation needs to be carried over\n",
    "h = [0.5, 0.2, 0.1, 0.05, 0.02, 0.01, 0.005, 0.002] #Smallest 4 values are now removed\n",
    "\n",
    "#Target value of x for which the derivative is to be evaluated\n",
    "x = (2*pi)/5\n",
    "\n",
    "#Algorithms that will be used\n",
    "alg = [forward_diff, backward_diff, central_diff, fivePoint_diff]\n",
    "\n",
    "#Names of the algorithms, for display purposes\n",
    "algName = [\"FD\", \"BD\", \"CD\", \"5D\"]\n",
    "\n",
    "#main loop\n",
    "print(\"  | \",end='')\n",
    "for i in h:\n",
    "    print(f\" {i} |\",end='')\n",
    "\n",
    "print()\n",
    "\n",
    "estimates = dict() #Dictionary indexed by algName, holds f'(x) at all values of h\n",
    "\n",
    "for i in range(len(alg)):\n",
    "    print(algName[i]+\"|\",end='')\n",
    "    hs = []\n",
    "    for j in h:\n",
    "        val = alg[i](sin,x,j)\n",
    "        print(f\"{val: .4f}|\",end='')\n",
    "        hs.append(val)\n",
    "    print()\n",
    "    estimates[algName[i]] = list(hs) #Need to copy the 1D list, it gets reset\n",
    "\n",
    "#Calculating the absolute errors\n",
    "for i in range(len(alg)):\n",
    "    a = algName[i]\n",
    "    hE = []\n",
    "    for j in range(len(h)):\n",
    "        hE.append(abs(estimates[a][j] - exact))\n",
    "    errors[a] = list(hE)\n",
    "\n",
    "from math import log\n",
    "\n",
    "logErrors = dict()\n",
    "\n",
    "for i in algName:\n",
    "    logErr = []\n",
    "    for j in range(len(h)):\n",
    "        logErr.append(log(errors[i][j]))\n",
    "    logErrors[i] = list(logErr)\n",
    "\n",
    "logH = [log(i) for i in h]\n",
    "\n",
    "#Now, we fit the log(Abs Err) vs log(h)\n",
    "from scipy.optimize import curve_fit\n",
    "\n",
    "#Normal, linear curve\n",
    "def linear(x, a, b):\n",
    "    return a*x + b\n",
    "\n",
    "params = dict()\n",
    "covs = dict()\n",
    "\n",
    "for i in algName:\n",
    "    params[i], covs[i] = curve_fit(linear, logH, logErrors[i])\n",
    "\n",
    "plt.title(\"Plot of log(Abs Error) vs. log(h)\")\n",
    "plt.xlabel(\"log(h)\")\n",
    "plt.ylabel(\"log(Abs Error)\")\n",
    "\n",
    "for i in algName:\n",
    "    plt.scatter(logH, logErrors[i], label=i)\n",
    "    fitY = [linear(j,params[i][0],params[i][1]) for j in logH]\n",
    "    plt.plot(logH, fitY, label=str(\"fit-\"+i))\n",
    "\n",
    "plt.legend()\n",
    "plt.show()\n",
    "\n",
    "print(\"SLOPES of Linear Fit for all methods -> \")\n",
    "for i in algName:\n",
    "    print(f\"{i}: \",end='')\n",
    "    print(params[i][0])\n",
    "    \n",
    "print(\"Updated Errors in Fit -> \")\n",
    "for i in algName:\n",
    "    print(f\"{i}: \",end='')\n",
    "    e = sqrt(diag(covs[i]))\n",
    "    print(f\"a = {e[0]}, b = {e[1]}\")"
   ]
  },
  {
   "cell_type": "markdown",
   "id": "9ff94b32",
   "metadata": {},
   "source": [
    "Clearly, we can now say that all the fit parameters are on the same order of magnitude. Thus, we can now compare the efficiencies.\n",
    "The efficiencies of the methods, ranked in descending order:\n",
    "1. 5 Point Difference\n",
    "2. Central Difference\n",
    "3. Forward Difference\n",
    "4. Backward Difference"
   ]
  },
  {
   "cell_type": "markdown",
   "id": "f859560c",
   "metadata": {},
   "source": [
    "## Q2\n",
    "First, we define the algorithms to be used"
   ]
  },
  {
   "cell_type": "code",
   "execution_count": 87,
   "id": "a412f60c",
   "metadata": {},
   "outputs": [],
   "source": [
    "def trap_int(f,a,b,h):\n",
    "    '''\n",
    "    f: Python function, takes one float, returns float\n",
    "    a: float\n",
    "    b: float\n",
    "    h: float\n",
    "    Numerically integrates the function f on [a,b] using trapezoidal rule\n",
    "    '''\n",
    "    p = []\n",
    "    i = a\n",
    "    while i <= b:\n",
    "        p.append(i)\n",
    "        i += h\n",
    "    s = 0\n",
    "    for i in p:\n",
    "        s += 2*f(i)\n",
    "    s = s - f(p[0]) - f(p[-1])\n",
    "    return s*(h/2)\n",
    "\n",
    "def simpson13_int(f,a,b,h):\n",
    "    '''\n",
    "    f: Python function, takes one float, returns float\n",
    "    a: float\n",
    "    b: float\n",
    "    h: float\n",
    "    Numerically integrates the function f on [a,b] using Simpson's 1/3 rule\n",
    "    '''\n",
    "    p = []\n",
    "    i = a\n",
    "    while i <= b:\n",
    "        p.append(i)\n",
    "        i += h\n",
    "    s = f(p[0]) + f(p[-1])\n",
    "    for i in range(1,len(p)-1):\n",
    "        if i%2 == 0:\n",
    "            s += 2*f(p[i])\n",
    "        else:\n",
    "            s+= 4*f(p[i])\n",
    "    return s*(h/3)\n",
    "\n",
    "def simpson38_int(f,a,b,h):\n",
    "    '''\n",
    "    f: Python function, takes one float, returns float\n",
    "    a: float\n",
    "    b: float\n",
    "    h: float\n",
    "    Numerically integrates the function f on [a,b] using Simpson's 3/8 rule\n",
    "    '''\n",
    "    p = []\n",
    "    i = a\n",
    "    while i <= b:\n",
    "        p.append(i)\n",
    "        i += h\n",
    "    s = f(p[0]) + f(p[-1])\n",
    "    for i in range(1,len(p)-1):\n",
    "        if i%3 == 0:\n",
    "            s += 2*f(p[i])\n",
    "        else:\n",
    "            s += 3*f(p[i])\n",
    "    return s*((3*h)/8)\n",
    "\n",
    "def boole_int(f,a,b,h):\n",
    "    '''\n",
    "    f: Python function, takes one float, returns float\n",
    "    a: float\n",
    "    b: float\n",
    "    h: float\n",
    "    Numerically integrates the function f on [a,b] using Boole's rule\n",
    "    '''\n",
    "    p = []\n",
    "    i = a\n",
    "    while i <= b:\n",
    "        p.append(i)\n",
    "        i += h\n",
    "    s = 7*(f(p[0]) + f(p[-1]))\n",
    "    for i in range(1,len(p)-1):\n",
    "        if i%4 == 0:\n",
    "            s += 14*f(p[i])\n",
    "        elif i%2 == 0 and i%4 != 0:\n",
    "            s += 12*f(p[i])\n",
    "        else:\n",
    "            s += 32*f(p[i])\n",
    "    return s*((2*h)/45)"
   ]
  },
  {
   "cell_type": "markdown",
   "id": "38b234b6",
   "metadata": {},
   "source": [
    "### (a)"
   ]
  },
  {
   "cell_type": "code",
   "execution_count": 88,
   "id": "ca068ae7",
   "metadata": {},
   "outputs": [
    {
     "name": "stdout",
     "output_type": "stream",
     "text": [
      "   |  0.0526|  0.0050|  0.0005|  0.0001|\n",
      "TRA|  1.7187|  1.7047|  1.7183|  1.7183|\n",
      "S13|  1.5919|  1.7138|  1.7178|  1.7181|\n",
      "S38|  1.5772|  1.7183|  1.7183|  1.7181|\n",
      "BOO|  1.5323|  1.6990|  1.7183|  1.7183|\n"
     ]
    }
   ],
   "source": [
    "from math import exp\n",
    "\n",
    "#Defined values of N in question\n",
    "N = [20,200,2000,20000]\n",
    "\n",
    "est = dict()\n",
    "\n",
    "algName = [\"TRA\",\"S13\",\"S38\",\"BOO\"]\n",
    "\n",
    "alg = [trap_int, simpson13_int, simpson38_int, boole_int]\n",
    "#Adjust the values of N as required - taking the next highest appropriate value\n",
    "adjustedN = {\n",
    "    \"TRA\": [20,200,2000,20000],\n",
    "    \"S13\": [22,202,2002,20002], #(N-1) needs to be multiple of 3\n",
    "    \"S38\": [22,202,2002,20002], #(N-1) needs to be multiple of 3\n",
    "    \"BOO\": [21,201,2001,20001], #(N-1) needs to be multiple of 5\n",
    "}\n",
    "\n",
    "print(\"   |\",end='')\n",
    "for i in N:\n",
    "    print(f\" {1/(i-1): .4f}|\",end='')\n",
    "\n",
    "print()\n",
    "\n",
    "for i in range(len(algName)):\n",
    "    print(algName[i]+\"|\",end='')\n",
    "    val = []\n",
    "    for j in range(len(N)):\n",
    "        v = alg[i](exp,0,1,1/(adjustedN[algName[i]][j]-1))\n",
    "        print(f\" {v: .4f}|\",end='')\n",
    "        val.append(v)\n",
    "    print()\n",
    "    est[algName[i]] = list(val)\n"
   ]
  },
  {
   "cell_type": "markdown",
   "id": "04335405",
   "metadata": {},
   "source": [
    "### (b)"
   ]
  },
  {
   "cell_type": "code",
   "execution_count": 89,
   "id": "b2cd1376",
   "metadata": {},
   "outputs": [
    {
     "data": {
      "image/png": "[encoded data removed]",
      "text/plain": [
       "<Figure size 432x288 with 1 Axes>"
      ]
     },
     "metadata": {
      "needs_background": "light"
     },
     "output_type": "display_data"
    }
   ],
   "source": [
    "exact = exp(1) - exp(0)\n",
    "\n",
    "err = dict()\n",
    "\n",
    "for i in algName:\n",
    "    e = []\n",
    "    for j in range(len(N)):\n",
    "        e.append(abs(est[i][j] - exact))\n",
    "    err[i] = list(e)\n",
    "\n",
    "h = [1/(i-1) for i in N]\n",
    "\n",
    "plt.title(\"Plot of Absolute Error vs. N\")\n",
    "plt.xlabel(\"N (Number of slices, approx)\")\n",
    "plt.ylabel(\"Absolute Error\")\n",
    "\n",
    "for i in algName:\n",
    "    plt.plot(h,err[i],label=i)\n",
    "\n",
    "plt.legend()\n",
    "plt.show()"
   ]
  },
  {
   "cell_type": "code",
   "execution_count": 90,
   "id": "480a943f",
   "metadata": {},
   "outputs": [
    {
     "data": {
      "image/png": "[encoded data removed]",
      "text/plain": [
       "<Figure size 432x288 with 1 Axes>"
      ]
     },
     "metadata": {
      "needs_background": "light"
     },
     "output_type": "display_data"
    },
    {
     "name": "stdout",
     "output_type": "stream",
     "text": [
      "SLOPES of Linear Fit for all methods -> \n",
      "TRA: 2.3499541235610257\n",
      "S13: 0.9843956712777682\n",
      "S38: 1.2255291806333382\n",
      "BOO: 4.82844647093632\n",
      "Errors in Fit -> \n",
      "TRA: a = 0.9406534064381216, b = 6.5260772437524075\n",
      "S13: a = 0.14240938687265464, b = 0.9880097042500533\n",
      "S38: a = 3.2274990402737154, b = 22.391784269814252\n",
      "BOO: a = 1.6518742416142271, b = 11.460394258765039\n"
     ]
    }
   ],
   "source": [
    "logErr = dict()\n",
    "\n",
    "for i in algName:\n",
    "    c = []\n",
    "    for j in range(len(N)):\n",
    "        c.append(log(err[i][j]))\n",
    "    logErr[i] = list(c)\n",
    "\n",
    "logH = [log(i) for i in h]\n",
    "\n",
    "del params\n",
    "del covs\n",
    "\n",
    "params = dict()\n",
    "covs = dict()\n",
    "\n",
    "for i in algName:\n",
    "    params[i], covs[i] = curve_fit(linear, logH, logErr[i])\n",
    "\n",
    "plt.title(\"Plot of log(Abs Error) vs. log(h)\")\n",
    "plt.xlabel(\"log(h)\")\n",
    "plt.ylabel(\"log(Abs Error)\")\n",
    "\n",
    "for i in algName:\n",
    "    plt.scatter(logH, logErr[i], label=i)\n",
    "    fitY = [linear(j,params[i][0],params[i][1]) for j in logH]\n",
    "    plt.plot(logH, fitY, label=str(\"fit-\"+i))\n",
    "\n",
    "plt.legend()\n",
    "plt.show()\n",
    "\n",
    "print(\"SLOPES of Linear Fit for all methods -> \")\n",
    "for i in algName:\n",
    "    print(f\"{i}: \",end='')\n",
    "    print(params[i][0])\n",
    "    \n",
    "print(\"Errors in Fit -> \")\n",
    "for i in algName:\n",
    "    print(f\"{i}: \",end='')\n",
    "    e = sqrt(diag(covs[i]))\n",
    "    print(f\"a = {e[0]}, b = {e[1]}\")"
   ]
  },
  {
   "cell_type": "markdown",
   "id": "4a2e0c59",
   "metadata": {},
   "source": [
    "Despite the fit for Boole's Rule being bad (compared to the others), we will rank the numerical integration rules in descending order -\n",
    "1. Boole's Rule\n",
    "2. Trapezoidal Rule\n",
    "3. Simpson's 3/8 Rule\n",
    "4. Simpson's 1/3 Rule"
   ]
  },
  {
   "cell_type": "markdown",
   "id": "8977d7f7",
   "metadata": {},
   "source": [
    "## Q3"
   ]
  },
  {
   "cell_type": "code",
   "execution_count": 93,
   "id": "0b03f31f",
   "metadata": {},
   "outputs": [
    {
     "name": "stdout",
     "output_type": "stream",
     "text": [
      "Exact Value - >  3.6275987284684357\n",
      "Numerically integrated value ->  3.5824231225466665\n"
     ]
    }
   ],
   "source": [
    "exact = (2*pi)/(sqrt(3))\n",
    "def f(x):\n",
    "    return pow(x,-2/3)*pow(1-x,-1/3)\n",
    "\n",
    "N = 300001\n",
    "\n",
    "print(\"Exact Value - > \",exact)\n",
    "print(\"Numerically integrated value -> \",simpson38_int(f,0+(1/(N-1)),1-(1/(N-1)),1/(N-1)))"
   ]
  },
  {
   "cell_type": "markdown",
   "id": "99e90283",
   "metadata": {},
   "source": [
    "- Diptanuj Sarkar (22MS038)\n",
    "\n",
    "Note: Name (Roll No) present in the previous two Jupyter Notebook submissions too, in the last cell."
   ]
  }
 ],
 "metadata": {
  "kernelspec": {
   "display_name": "Python 3 (ipykernel)",
   "language": "python",
   "name": "python3"
  },
  "language_info": {
   "codemirror_mode": {
    "name": "ipython",
    "version": 3
   },
   "file_extension": ".py",
   "mimetype": "text/x-python",
   "name": "python",
   "nbconvert_exporter": "python",
   "pygments_lexer": "ipython3",
   "version": "3.10.12"
  }
 },
 "nbformat": 4,
 "nbformat_minor": 5
}
